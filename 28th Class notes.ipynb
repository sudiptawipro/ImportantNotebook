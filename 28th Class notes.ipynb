{
 "cells": [
  {
   "cell_type": "code",
   "execution_count": 1,
   "metadata": {
    "collapsed": true
   },
   "outputs": [],
   "source": [
    "import pandas as pd\n",
    "import numpy as np\n",
    "import matplotlib.pyplot as plt\n",
    "%matplotlib inline"
   ]
  },
  {
   "cell_type": "code",
   "execution_count": 2,
   "metadata": {
    "collapsed": true
   },
   "outputs": [],
   "source": [
    "df = pd.read_csv('/Users/pradmishra/Desktop/Acadgild Contents/ML Content/kc_house_data.csv')"
   ]
  },
  {
   "cell_type": "code",
   "execution_count": 6,
   "metadata": {
    "collapsed": false
   },
   "outputs": [
    {
     "name": "stdout",
     "output_type": "stream",
     "text": [
      "Requirement already satisfied: Modin in /Applications/anaconda3/lib/python3.6/site-packages\n",
      "Requirement already satisfied: pandas==0.23.4 in /Applications/anaconda3/lib/python3.6/site-packages (from Modin)\n",
      "Requirement already satisfied: ray==0.5.3 in /Applications/anaconda3/lib/python3.6/site-packages (from Modin)\n",
      "Requirement already satisfied: typing in /Applications/anaconda3/lib/python3.6/site-packages (from Modin)\n",
      "Requirement already satisfied: python-dateutil>=2.5.0 in /Applications/anaconda3/lib/python3.6/site-packages (from pandas==0.23.4->Modin)\n",
      "Requirement already satisfied: pytz>=2011k in /Applications/anaconda3/lib/python3.6/site-packages (from pandas==0.23.4->Modin)\n",
      "Requirement already satisfied: numpy>=1.9.0 in /Applications/anaconda3/lib/python3.6/site-packages (from pandas==0.23.4->Modin)\n",
      "Requirement already satisfied: redis in /Applications/anaconda3/lib/python3.6/site-packages (from ray==0.5.3->Modin)\n",
      "Requirement already satisfied: click in /Applications/anaconda3/lib/python3.6/site-packages (from ray==0.5.3->Modin)\n",
      "Requirement already satisfied: pyyaml in /Applications/anaconda3/lib/python3.6/site-packages (from ray==0.5.3->Modin)\n",
      "Requirement already satisfied: flatbuffers in /Applications/anaconda3/lib/python3.6/site-packages (from ray==0.5.3->Modin)\n",
      "Requirement already satisfied: funcsigs in /Applications/anaconda3/lib/python3.6/site-packages (from ray==0.5.3->Modin)\n",
      "Requirement already satisfied: six>=1.0.0 in /Applications/anaconda3/lib/python3.6/site-packages (from ray==0.5.3->Modin)\n",
      "Requirement already satisfied: pytest in /Applications/anaconda3/lib/python3.6/site-packages (from ray==0.5.3->Modin)\n",
      "Requirement already satisfied: colorama in /Applications/anaconda3/lib/python3.6/site-packages (from ray==0.5.3->Modin)\n",
      "Requirement already satisfied: py>=1.4.33 in /Applications/anaconda3/lib/python3.6/site-packages (from pytest->ray==0.5.3->Modin)\n",
      "Requirement already satisfied: setuptools in /Applications/anaconda3/lib/python3.6/site-packages (from pytest->ray==0.5.3->Modin)\n",
      "\u001b[33mYou are using pip version 9.0.1, however version 18.1 is available.\n",
      "You should consider upgrading via the 'pip install --upgrade pip' command.\u001b[0m\n"
     ]
    }
   ],
   "source": [
    "!pip install Modin"
   ]
  },
  {
   "cell_type": "code",
   "execution_count": 7,
   "metadata": {
    "collapsed": true
   },
   "outputs": [],
   "source": [
    "import os"
   ]
  },
  {
   "cell_type": "code",
   "execution_count": 12,
   "metadata": {
    "collapsed": false
   },
   "outputs": [
    {
     "data": {
      "text/plain": [
       "'/Users/pradmishra'"
      ]
     },
     "execution_count": 12,
     "metadata": {},
     "output_type": "execute_result"
    }
   ],
   "source": [
    "os.getcwd()"
   ]
  },
  {
   "cell_type": "code",
   "execution_count": 14,
   "metadata": {
    "collapsed": false
   },
   "outputs": [
    {
     "name": "stdout",
     "output_type": "stream",
     "text": [
      "<class 'pandas.core.frame.DataFrame'>\n",
      "RangeIndex: 21613 entries, 0 to 21612\n",
      "Data columns (total 21 columns):\n",
      "id               21613 non-null int64\n",
      "date             21613 non-null object\n",
      "price            21613 non-null float64\n",
      "bedrooms         21613 non-null int64\n",
      "bathrooms        21613 non-null float64\n",
      "sqft_living      21613 non-null int64\n",
      "sqft_lot         21613 non-null int64\n",
      "floors           21613 non-null float64\n",
      "waterfront       21613 non-null int64\n",
      "view             21613 non-null int64\n",
      "condition        21613 non-null int64\n",
      "grade            21613 non-null int64\n",
      "sqft_above       21613 non-null int64\n",
      "sqft_basement    21613 non-null int64\n",
      "yr_built         21613 non-null int64\n",
      "yr_renovated     21613 non-null int64\n",
      "zipcode          21613 non-null int64\n",
      "lat              21613 non-null float64\n",
      "long             21613 non-null float64\n",
      "sqft_living15    21613 non-null int64\n",
      "sqft_lot15       21613 non-null int64\n",
      "dtypes: float64(5), int64(15), object(1)\n",
      "memory usage: 3.5+ MB\n"
     ]
    }
   ],
   "source": [
    "df.info()"
   ]
  },
  {
   "cell_type": "code",
   "execution_count": 15,
   "metadata": {
    "collapsed": false
   },
   "outputs": [
    {
     "data": {
      "text/html": [
       "<div>\n",
       "<style scoped>\n",
       "    .dataframe tbody tr th:only-of-type {\n",
       "        vertical-align: middle;\n",
       "    }\n",
       "\n",
       "    .dataframe tbody tr th {\n",
       "        vertical-align: top;\n",
       "    }\n",
       "\n",
       "    .dataframe thead th {\n",
       "        text-align: right;\n",
       "    }\n",
       "</style>\n",
       "<table border=\"1\" class=\"dataframe\">\n",
       "  <thead>\n",
       "    <tr style=\"text-align: right;\">\n",
       "      <th></th>\n",
       "      <th>id</th>\n",
       "      <th>date</th>\n",
       "      <th>price</th>\n",
       "      <th>bedrooms</th>\n",
       "      <th>bathrooms</th>\n",
       "      <th>sqft_living</th>\n",
       "      <th>sqft_lot</th>\n",
       "      <th>floors</th>\n",
       "      <th>waterfront</th>\n",
       "      <th>view</th>\n",
       "      <th>...</th>\n",
       "      <th>grade</th>\n",
       "      <th>sqft_above</th>\n",
       "      <th>sqft_basement</th>\n",
       "      <th>yr_built</th>\n",
       "      <th>yr_renovated</th>\n",
       "      <th>zipcode</th>\n",
       "      <th>lat</th>\n",
       "      <th>long</th>\n",
       "      <th>sqft_living15</th>\n",
       "      <th>sqft_lot15</th>\n",
       "    </tr>\n",
       "  </thead>\n",
       "  <tbody>\n",
       "    <tr>\n",
       "      <th>0</th>\n",
       "      <td>7129300520</td>\n",
       "      <td>20141013T000000</td>\n",
       "      <td>221900.0</td>\n",
       "      <td>3</td>\n",
       "      <td>1.00</td>\n",
       "      <td>1180</td>\n",
       "      <td>5650</td>\n",
       "      <td>1.0</td>\n",
       "      <td>0</td>\n",
       "      <td>0</td>\n",
       "      <td>...</td>\n",
       "      <td>7</td>\n",
       "      <td>1180</td>\n",
       "      <td>0</td>\n",
       "      <td>1955</td>\n",
       "      <td>0</td>\n",
       "      <td>98178</td>\n",
       "      <td>47.5112</td>\n",
       "      <td>-122.257</td>\n",
       "      <td>1340</td>\n",
       "      <td>5650</td>\n",
       "    </tr>\n",
       "    <tr>\n",
       "      <th>1</th>\n",
       "      <td>6414100192</td>\n",
       "      <td>20141209T000000</td>\n",
       "      <td>538000.0</td>\n",
       "      <td>3</td>\n",
       "      <td>2.25</td>\n",
       "      <td>2570</td>\n",
       "      <td>7242</td>\n",
       "      <td>2.0</td>\n",
       "      <td>0</td>\n",
       "      <td>0</td>\n",
       "      <td>...</td>\n",
       "      <td>7</td>\n",
       "      <td>2170</td>\n",
       "      <td>400</td>\n",
       "      <td>1951</td>\n",
       "      <td>1991</td>\n",
       "      <td>98125</td>\n",
       "      <td>47.7210</td>\n",
       "      <td>-122.319</td>\n",
       "      <td>1690</td>\n",
       "      <td>7639</td>\n",
       "    </tr>\n",
       "    <tr>\n",
       "      <th>2</th>\n",
       "      <td>5631500400</td>\n",
       "      <td>20150225T000000</td>\n",
       "      <td>180000.0</td>\n",
       "      <td>2</td>\n",
       "      <td>1.00</td>\n",
       "      <td>770</td>\n",
       "      <td>10000</td>\n",
       "      <td>1.0</td>\n",
       "      <td>0</td>\n",
       "      <td>0</td>\n",
       "      <td>...</td>\n",
       "      <td>6</td>\n",
       "      <td>770</td>\n",
       "      <td>0</td>\n",
       "      <td>1933</td>\n",
       "      <td>0</td>\n",
       "      <td>98028</td>\n",
       "      <td>47.7379</td>\n",
       "      <td>-122.233</td>\n",
       "      <td>2720</td>\n",
       "      <td>8062</td>\n",
       "    </tr>\n",
       "    <tr>\n",
       "      <th>3</th>\n",
       "      <td>2487200875</td>\n",
       "      <td>20141209T000000</td>\n",
       "      <td>604000.0</td>\n",
       "      <td>4</td>\n",
       "      <td>3.00</td>\n",
       "      <td>1960</td>\n",
       "      <td>5000</td>\n",
       "      <td>1.0</td>\n",
       "      <td>0</td>\n",
       "      <td>0</td>\n",
       "      <td>...</td>\n",
       "      <td>7</td>\n",
       "      <td>1050</td>\n",
       "      <td>910</td>\n",
       "      <td>1965</td>\n",
       "      <td>0</td>\n",
       "      <td>98136</td>\n",
       "      <td>47.5208</td>\n",
       "      <td>-122.393</td>\n",
       "      <td>1360</td>\n",
       "      <td>5000</td>\n",
       "    </tr>\n",
       "    <tr>\n",
       "      <th>4</th>\n",
       "      <td>1954400510</td>\n",
       "      <td>20150218T000000</td>\n",
       "      <td>510000.0</td>\n",
       "      <td>3</td>\n",
       "      <td>2.00</td>\n",
       "      <td>1680</td>\n",
       "      <td>8080</td>\n",
       "      <td>1.0</td>\n",
       "      <td>0</td>\n",
       "      <td>0</td>\n",
       "      <td>...</td>\n",
       "      <td>8</td>\n",
       "      <td>1680</td>\n",
       "      <td>0</td>\n",
       "      <td>1987</td>\n",
       "      <td>0</td>\n",
       "      <td>98074</td>\n",
       "      <td>47.6168</td>\n",
       "      <td>-122.045</td>\n",
       "      <td>1800</td>\n",
       "      <td>7503</td>\n",
       "    </tr>\n",
       "  </tbody>\n",
       "</table>\n",
       "<p>5 rows × 21 columns</p>\n",
       "</div>"
      ],
      "text/plain": [
       "           id             date     price  bedrooms  bathrooms  sqft_living  \\\n",
       "0  7129300520  20141013T000000  221900.0         3       1.00         1180   \n",
       "1  6414100192  20141209T000000  538000.0         3       2.25         2570   \n",
       "2  5631500400  20150225T000000  180000.0         2       1.00          770   \n",
       "3  2487200875  20141209T000000  604000.0         4       3.00         1960   \n",
       "4  1954400510  20150218T000000  510000.0         3       2.00         1680   \n",
       "\n",
       "   sqft_lot  floors  waterfront  view     ...      grade  sqft_above  \\\n",
       "0      5650     1.0           0     0     ...          7        1180   \n",
       "1      7242     2.0           0     0     ...          7        2170   \n",
       "2     10000     1.0           0     0     ...          6         770   \n",
       "3      5000     1.0           0     0     ...          7        1050   \n",
       "4      8080     1.0           0     0     ...          8        1680   \n",
       "\n",
       "   sqft_basement  yr_built  yr_renovated  zipcode      lat     long  \\\n",
       "0              0      1955             0    98178  47.5112 -122.257   \n",
       "1            400      1951          1991    98125  47.7210 -122.319   \n",
       "2              0      1933             0    98028  47.7379 -122.233   \n",
       "3            910      1965             0    98136  47.5208 -122.393   \n",
       "4              0      1987             0    98074  47.6168 -122.045   \n",
       "\n",
       "   sqft_living15  sqft_lot15  \n",
       "0           1340        5650  \n",
       "1           1690        7639  \n",
       "2           2720        8062  \n",
       "3           1360        5000  \n",
       "4           1800        7503  \n",
       "\n",
       "[5 rows x 21 columns]"
      ]
     },
     "execution_count": 15,
     "metadata": {},
     "output_type": "execute_result"
    }
   ],
   "source": [
    "df.head()"
   ]
  },
  {
   "cell_type": "code",
   "execution_count": 16,
   "metadata": {
    "collapsed": false
   },
   "outputs": [
    {
     "data": {
      "text/plain": [
       "(21613, 21)"
      ]
     },
     "execution_count": 16,
     "metadata": {},
     "output_type": "execute_result"
    }
   ],
   "source": [
    "df.shape"
   ]
  },
  {
   "cell_type": "code",
   "execution_count": 17,
   "metadata": {
    "collapsed": true
   },
   "outputs": [],
   "source": [
    "from sklearn.cross_validation import train_test_split"
   ]
  },
  {
   "cell_type": "code",
   "execution_count": 88,
   "metadata": {
    "collapsed": false
   },
   "outputs": [
    {
     "name": "stdout",
     "output_type": "stream",
     "text": [
      "0.5079647953103715\n",
      "0.5040685771900163\n"
     ]
    }
   ],
   "source": [
    "xtrain = df[['bedrooms','bathrooms','sqft_living']]\n",
    "\n",
    "ytrain= df['price']\n",
    "\n",
    "x_train, x_test, y_train, y_test = train_test_split(xtrain,ytrain,test_size=0.30,random_state=1234)\n",
    "\n",
    "x_train.shape, x_test.shape, y_train.shape, y_test.shape\n",
    "\n",
    "from sklearn.linear_model import LinearRegression\n",
    "\n",
    "model1 = LinearRegression()\n",
    "\n",
    "model1.fit(x_train,y_train)\n",
    "\n",
    "print(model1.score(x_train,y_train))\n",
    "\n",
    "print(model1.score(x_test,y_test))"
   ]
  },
  {
   "cell_type": "code",
   "execution_count": 89,
   "metadata": {
    "collapsed": false
   },
   "outputs": [
    {
     "data": {
      "text/plain": [
       "array([-56570.90014869,   3300.27208513,    313.54396946])"
      ]
     },
     "execution_count": 89,
     "metadata": {},
     "output_type": "execute_result"
    }
   ],
   "source": [
    "model1.coef_"
   ]
  },
  {
   "cell_type": "code",
   "execution_count": 28,
   "metadata": {
    "collapsed": true
   },
   "outputs": [],
   "source": [
    "import seaborn as sns"
   ]
  },
  {
   "cell_type": "code",
   "execution_count": 29,
   "metadata": {
    "collapsed": false
   },
   "outputs": [
    {
     "name": "stderr",
     "output_type": "stream",
     "text": [
      "/Applications/anaconda3/lib/python3.6/site-packages/scipy/stats/stats.py:1706: FutureWarning: Using a non-tuple sequence for multidimensional indexing is deprecated; use `arr[tuple(seq)]` instead of `arr[seq]`. In the future this will be interpreted as an array index, `arr[np.array(seq)]`, which will result either in an error or a different result.\n",
      "  return np.add.reduce(sorted[indexer] * weights, axis=axis) / sumval\n"
     ]
    },
    {
     "data": {
      "text/plain": [
       "<matplotlib.axes._subplots.AxesSubplot at 0x1a2818a438>"
      ]
     },
     "execution_count": 29,
     "metadata": {},
     "output_type": "execute_result"
    },
    {
     "data": {
      "image/png": "[encoded data removed]",
      "text/plain": [
       "<matplotlib.figure.Figure at 0x1a281bce10>"
      ]
     },
     "metadata": {},
     "output_type": "display_data"
    }
   ],
   "source": [
    "sns.distplot(df['price'])"
   ]
  },
  {
   "cell_type": "code",
   "execution_count": 31,
   "metadata": {
    "collapsed": true
   },
   "outputs": [],
   "source": [
    "df['price_norm'] = (df['price']-df['price'].mean())/df['price'].std()"
   ]
  },
  {
   "cell_type": "code",
   "execution_count": 32,
   "metadata": {
    "collapsed": false
   },
   "outputs": [
    {
     "name": "stderr",
     "output_type": "stream",
     "text": [
      "/Applications/anaconda3/lib/python3.6/site-packages/scipy/stats/stats.py:1706: FutureWarning: Using a non-tuple sequence for multidimensional indexing is deprecated; use `arr[tuple(seq)]` instead of `arr[seq]`. In the future this will be interpreted as an array index, `arr[np.array(seq)]`, which will result either in an error or a different result.\n",
      "  return np.add.reduce(sorted[indexer] * weights, axis=axis) / sumval\n"
     ]
    },
    {
     "data": {
      "text/plain": [
       "<matplotlib.axes._subplots.AxesSubplot at 0x1a2b3bd470>"
      ]
     },
     "execution_count": 32,
     "metadata": {},
     "output_type": "execute_result"
    },
    {
     "data": {
      "image/png": "[encoded data removed]",
      "text/plain": [
       "<matplotlib.figure.Figure at 0x1a2b3a13c8>"
      ]
     },
     "metadata": {},
     "output_type": "display_data"
    }
   ],
   "source": [
    "sns.distplot(df['price_norm'])"
   ]
  },
  {
   "cell_type": "code",
   "execution_count": 33,
   "metadata": {
    "collapsed": false
   },
   "outputs": [
    {
     "data": {
      "text/plain": [
       "Index(['id', 'date', 'price', 'bedrooms', 'bathrooms', 'sqft_living',\n",
       "       'sqft_lot', 'floors', 'waterfront', 'view', 'condition', 'grade',\n",
       "       'sqft_above', 'sqft_basement', 'yr_built', 'yr_renovated', 'zipcode',\n",
       "       'lat', 'long', 'sqft_living15', 'sqft_lot15', 'price_norm'],\n",
       "      dtype='object')"
      ]
     },
     "execution_count": 33,
     "metadata": {},
     "output_type": "execute_result"
    }
   ],
   "source": [
    "df.columns"
   ]
  },
  {
   "cell_type": "code",
   "execution_count": 34,
   "metadata": {
    "collapsed": false
   },
   "outputs": [
    {
     "data": {
      "text/plain": [
       "{0, 1, 2, 3, 4, 5, 6, 7, 8, 9, 10, 11, 33}"
      ]
     },
     "execution_count": 34,
     "metadata": {},
     "output_type": "execute_result"
    }
   ],
   "source": [
    "set(df.bedrooms)"
   ]
  },
  {
   "cell_type": "code",
   "execution_count": 35,
   "metadata": {
    "collapsed": false
   },
   "outputs": [
    {
     "name": "stdout",
     "output_type": "stream",
     "text": [
      "<class 'pandas.core.frame.DataFrame'>\n",
      "RangeIndex: 21613 entries, 0 to 21612\n",
      "Data columns (total 22 columns):\n",
      "id               21613 non-null int64\n",
      "date             21613 non-null object\n",
      "price            21613 non-null float64\n",
      "bedrooms         21613 non-null int64\n",
      "bathrooms        21613 non-null float64\n",
      "sqft_living      21613 non-null int64\n",
      "sqft_lot         21613 non-null int64\n",
      "floors           21613 non-null float64\n",
      "waterfront       21613 non-null int64\n",
      "view             21613 non-null int64\n",
      "condition        21613 non-null int64\n",
      "grade            21613 non-null int64\n",
      "sqft_above       21613 non-null int64\n",
      "sqft_basement    21613 non-null int64\n",
      "yr_built         21613 non-null int64\n",
      "yr_renovated     21613 non-null int64\n",
      "zipcode          21613 non-null int64\n",
      "lat              21613 non-null float64\n",
      "long             21613 non-null float64\n",
      "sqft_living15    21613 non-null int64\n",
      "sqft_lot15       21613 non-null int64\n",
      "price_norm       21613 non-null float64\n",
      "dtypes: float64(6), int64(15), object(1)\n",
      "memory usage: 3.6+ MB\n"
     ]
    }
   ],
   "source": [
    "df.info()"
   ]
  },
  {
   "cell_type": "code",
   "execution_count": 87,
   "metadata": {
    "collapsed": false
   },
   "outputs": [
    {
     "data": {
      "text/plain": [
       "[<matplotlib.lines.Line2D at 0x1a2bb13080>]"
      ]
     },
     "execution_count": 87,
     "metadata": {},
     "output_type": "execute_result"
    },
    {
     "data": {
      "image/png": "[encoded data removed]",
      "text/plain": [
       "<matplotlib.figure.Figure at 0x1a2e4b92e8>"
      ]
     },
     "metadata": {},
     "output_type": "display_data"
    }
   ],
   "source": [
    "plt.figure(figsize=(10,6))\n",
    "plt.plot(df.price,df.sqft_living,'o')"
   ]
  },
  {
   "cell_type": "code",
   "execution_count": 43,
   "metadata": {
    "collapsed": false
   },
   "outputs": [
    {
     "name": "stderr",
     "output_type": "stream",
     "text": [
      "/Applications/anaconda3/lib/python3.6/site-packages/scipy/stats/stats.py:1706: FutureWarning: Using a non-tuple sequence for multidimensional indexing is deprecated; use `arr[tuple(seq)]` instead of `arr[seq]`. In the future this will be interpreted as an array index, `arr[np.array(seq)]`, which will result either in an error or a different result.\n",
      "  return np.add.reduce(sorted[indexer] * weights, axis=axis) / sumval\n"
     ]
    },
    {
     "data": {
      "text/plain": [
       "<matplotlib.axes._subplots.AxesSubplot at 0x1a2d10a748>"
      ]
     },
     "execution_count": 43,
     "metadata": {},
     "output_type": "execute_result"
    },
    {
     "data": {
      "image/png": "[encoded data removed]",
      "text/plain": [
       "<matplotlib.figure.Figure at 0x1a2e145400>"
      ]
     },
     "metadata": {},
     "output_type": "display_data"
    }
   ],
   "source": [
    "sns.distplot(df.sqft_living)"
   ]
  },
  {
   "cell_type": "code",
   "execution_count": 90,
   "metadata": {
    "collapsed": false
   },
   "outputs": [
    {
     "data": {
      "text/plain": [
       "{0, 1, 2, 3, 4, 5, 6, 7, 8, 9, 10, 11, 33}"
      ]
     },
     "execution_count": 90,
     "metadata": {},
     "output_type": "execute_result"
    }
   ],
   "source": [
    "set(df.bedrooms)"
   ]
  },
  {
   "cell_type": "code",
   "execution_count": 101,
   "metadata": {
    "collapsed": false
   },
   "outputs": [
    {
     "data": {
      "text/plain": [
       "bedrooms\n",
       "0      409504.0\n",
       "1      317643.0\n",
       "2      401373.0\n",
       "3      466232.0\n",
       "4      635420.0\n",
       "5      786600.0\n",
       "6      825521.0\n",
       "7      951185.0\n",
       "8     1105077.0\n",
       "9      894000.0\n",
       "10     819333.0\n",
       "11     520000.0\n",
       "33     640000.0\n",
       "Name: price, dtype: float64"
      ]
     },
     "execution_count": 101,
     "metadata": {},
     "output_type": "execute_result"
    }
   ],
   "source": [
    "np.round(df.groupby(['bedrooms'])['price'].mean(),0)"
   ]
  },
  {
   "cell_type": "code",
   "execution_count": 112,
   "metadata": {
    "collapsed": false
   },
   "outputs": [
    {
     "data": {
      "text/plain": [
       "F_onewayResult(statistic=68.0528309071097, pvalue=1.183639059455565e-43)"
      ]
     },
     "execution_count": 112,
     "metadata": {},
     "output_type": "execute_result"
    }
   ],
   "source": [
    "stats.f_oneway(df[df.bedrooms==0]['price'],\n",
    "               df[df.bedrooms==1]['price'],\n",
    "               df[df.bedrooms==2]['price'],\n",
    "               df[df.bedrooms==3]['price']\n",
    "               )\n"
   ]
  },
  {
   "cell_type": "code",
   "execution_count": 114,
   "metadata": {
    "collapsed": true
   },
   "outputs": [],
   "source": [
    "from statsmodels.stats.multicomp import pairwise_tukeyhsd"
   ]
  },
  {
   "cell_type": "code",
   "execution_count": 115,
   "metadata": {
    "collapsed": true
   },
   "outputs": [],
   "source": [
    "output = pairwise_tukeyhsd(df.price,df.bedrooms)"
   ]
  },
  {
   "cell_type": "code",
   "execution_count": 117,
   "metadata": {
    "collapsed": false
   },
   "outputs": [
    {
     "data": {
      "text/plain": [
       "array([221900., 538000., 180000., ..., 402101., 400000., 325000.])"
      ]
     },
     "execution_count": 117,
     "metadata": {},
     "output_type": "execute_result"
    }
   ],
   "source": [
    "output.data"
   ]
  },
  {
   "cell_type": "code",
   "execution_count": 118,
   "metadata": {
    "collapsed": false
   },
   "outputs": [
    {
     "data": {
      "text/plain": [
       "array([ -91860.96173174,   -8131.16426979,   56728.23232742,\n",
       "        225915.65806005,  377095.98270312,  416016.78987557,\n",
       "        541680.81174089,  695573.07692308,  484495.98717949,\n",
       "        409829.48717949,  110496.15384615,  230496.15384615,\n",
       "         83729.79746195,  148589.19405916,  317776.61979178,\n",
       "        468956.94443485,  507877.7516073 ,  633541.77347263,\n",
       "        787434.03865481,  576356.94891122,  501690.44891122,\n",
       "        202357.11557789,  322357.11557789,   64859.39659721,\n",
       "        234046.82232983,  385227.14697291,  424147.95414535,\n",
       "        549811.97601068,  703704.24119286,  492627.15144928,\n",
       "        417960.65144928,  118627.31811594,  238627.31811594,\n",
       "        169187.42573262,  320367.75037569,  359288.55754814,\n",
       "        484952.57941347,  638844.84459565,  427767.75485206,\n",
       "        353101.25485206,   53767.92151873,  173767.92151873,\n",
       "        151180.32464307,  190101.13181552,  315765.15368085,\n",
       "        469657.41886303,  258580.32911944,  183913.82911944,\n",
       "       -115419.50421389,    4580.49578611,   38920.80717245,\n",
       "        164584.82903777,  318477.09421996,  107400.00447637,\n",
       "         32733.50447637, -266599.82885696, -146599.82885696,\n",
       "        125664.02186533,  279556.28704751,   68479.19730392,\n",
       "         -6187.30269608, -305520.63602941, -185520.63602941,\n",
       "        153892.26518219,  -57184.8245614 , -131851.3245614 ,\n",
       "       -431184.65789474, -311184.65789474, -211077.08974359,\n",
       "       -285743.58974359, -585076.92307692, -465076.92307692,\n",
       "        -74666.5       , -373999.83333333, -253999.83333333,\n",
       "       -299333.33333333, -179333.33333333,  120000.        ])"
      ]
     },
     "execution_count": 118,
     "metadata": {},
     "output_type": "execute_result"
    }
   ],
   "source": [
    "output.meandiffs"
   ]
  },
  {
   "cell_type": "code",
   "execution_count": 119,
   "metadata": {
    "collapsed": false
   },
   "outputs": [
    {
     "ename": "TypeError",
     "evalue": "'Figure' object does not support indexing",
     "output_type": "error",
     "traceback": [
      "\u001b[0;31m---------------------------------------------------------------------------\u001b[0m",
      "\u001b[0;31mTypeError\u001b[0m                                 Traceback (most recent call last)",
      "\u001b[0;32m<ipython-input-119-fa2e3b816fc8>\u001b[0m in \u001b[0;36m<module>\u001b[0;34m()\u001b[0m\n\u001b[0;32m----> 1\u001b[0;31m \u001b[0moutput\u001b[0m\u001b[0;34m.\u001b[0m\u001b[0mplot_simultaneous\u001b[0m\u001b[0;34m(\u001b[0m\u001b[0;34m)\u001b[0m\u001b[0;34m[\u001b[0m\u001b[0;36m0\u001b[0m\u001b[0;34m]\u001b[0m\u001b[0;34m\u001b[0m\u001b[0m\n\u001b[0m",
      "\u001b[0;31mTypeError\u001b[0m: 'Figure' object does not support indexing"
     ]
    },
    {
     "data": {
      "image/png": "[encoded data removed]",
      "text/plain": [
       "<matplotlib.figure.Figure at 0x1c32e2bd68>"
      ]
     },
     "metadata": {},
     "output_type": "display_data"
    }
   ],
   "source": [
    "output.plot_simultaneous()[0]"
   ]
  },
  {
   "cell_type": "code",
   "execution_count": 120,
   "metadata": {
    "collapsed": false
   },
   "outputs": [
    {
     "data": {
      "text/html": [
       "<table class=\"simpletable\">\n",
       "<caption>Multiple Comparison of Means - Tukey HSD,FWER=0.05</caption>\n",
       "<tr>\n",
       "  <th>group1</th> <th>group2</th>   <th>meandiff</th>       <th>lower</th>         <th>upper</th>    <th>reject</th>\n",
       "</tr>\n",
       "<tr>\n",
       "     <td>0</td>      <td>1</td>    <td>-91860.9617</td> <td>-421089.3514</td>   <td>237367.428</td>   <td>False</td>\n",
       "</tr>\n",
       "<tr>\n",
       "     <td>0</td>      <td>2</td>    <td>-8131.1643</td>  <td>-327855.9311</td>   <td>311593.6026</td>  <td>False</td>\n",
       "</tr>\n",
       "<tr>\n",
       "     <td>0</td>      <td>3</td>    <td>56728.2323</td>  <td>-262457.1871</td>   <td>375913.6518</td>  <td>False</td>\n",
       "</tr>\n",
       "<tr>\n",
       "     <td>0</td>      <td>4</td>    <td>225915.6581</td>  <td>-93359.9103</td>   <td>545191.2264</td>  <td>False</td>\n",
       "</tr>\n",
       "<tr>\n",
       "     <td>0</td>      <td>5</td>    <td>377095.9827</td>  <td>56829.1353</td>    <td>697362.8301</td>  <td>True</td> \n",
       "</tr>\n",
       "<tr>\n",
       "     <td>0</td>      <td>6</td>    <td>416016.7899</td>  <td>89508.7622</td>    <td>742524.8176</td>  <td>True</td> \n",
       "</tr>\n",
       "<tr>\n",
       "     <td>0</td>      <td>7</td>    <td>541680.8117</td>  <td>172151.2599</td>   <td>911210.3636</td>  <td>True</td> \n",
       "</tr>\n",
       "<tr>\n",
       "     <td>0</td>      <td>8</td>    <td>695573.0769</td>  <td>244475.0958</td>   <td>1146671.058</td>  <td>True</td> \n",
       "</tr>\n",
       "<tr>\n",
       "     <td>0</td>      <td>9</td>    <td>484495.9872</td>  <td>-83123.1914</td>  <td>1052115.1657</td>  <td>False</td>\n",
       "</tr>\n",
       "<tr>\n",
       "     <td>0</td>     <td>10</td>    <td>409829.4872</td> <td>-326810.4313</td>  <td>1146469.4056</td>  <td>False</td>\n",
       "</tr>\n",
       "<tr>\n",
       "     <td>0</td>     <td>11</td>    <td>110496.1538</td> <td>-1082996.921</td>  <td>1303989.2287</td>  <td>False</td>\n",
       "</tr>\n",
       "<tr>\n",
       "     <td>0</td>     <td>33</td>    <td>230496.1538</td>  <td>-962996.921</td>  <td>1423989.2287</td>  <td>False</td>\n",
       "</tr>\n",
       "<tr>\n",
       "     <td>1</td>      <td>2</td>    <td>83729.7975</td>    <td>-685.0743</td>    <td>168144.6692</td>  <td>False</td>\n",
       "</tr>\n",
       "<tr>\n",
       "     <td>1</td>      <td>3</td>    <td>148589.1941</td>  <td>66240.6905</td>    <td>230937.6977</td>  <td>True</td> \n",
       "</tr>\n",
       "<tr>\n",
       "     <td>1</td>      <td>4</td>    <td>317776.6198</td>  <td>235079.3853</td>   <td>400473.8543</td>  <td>True</td> \n",
       "</tr>\n",
       "<tr>\n",
       "     <td>1</td>      <td>5</td>    <td>468956.9444</td>  <td>382511.5998</td>   <td>555402.2891</td>  <td>True</td> \n",
       "</tr>\n",
       "<tr>\n",
       "     <td>1</td>      <td>6</td>    <td>507877.7516</td>  <td>400595.7111</td>   <td>615159.7921</td>  <td>True</td> \n",
       "</tr>\n",
       "<tr>\n",
       "     <td>1</td>      <td>7</td>    <td>633541.7735</td>  <td>429939.1366</td>   <td>837144.4103</td>  <td>True</td> \n",
       "</tr>\n",
       "<tr>\n",
       "     <td>1</td>      <td>8</td>    <td>787434.0387</td>  <td>458205.6489</td>  <td>1116662.4284</td>  <td>True</td> \n",
       "</tr>\n",
       "<tr>\n",
       "     <td>1</td>      <td>9</td>    <td>576356.9489</td>  <td>99813.6918</td>    <td>1052900.206</td>  <td>True</td> \n",
       "</tr>\n",
       "<tr>\n",
       "     <td>1</td>     <td>10</td>    <td>501690.4489</td> <td>-167294.0901</td>   <td>1170674.988</td>  <td>False</td>\n",
       "</tr>\n",
       "<tr>\n",
       "     <td>1</td>     <td>11</td>    <td>202357.1156</td> <td>-950607.6124</td>  <td>1355321.8435</td>  <td>False</td>\n",
       "</tr>\n",
       "<tr>\n",
       "     <td>1</td>     <td>33</td>    <td>322357.1156</td> <td>-830607.6124</td>  <td>1475321.8435</td>  <td>False</td>\n",
       "</tr>\n",
       "<tr>\n",
       "     <td>2</td>      <td>3</td>    <td>64859.3966</td>   <td>40082.9969</td>    <td>89635.7963</td>   <td>True</td> \n",
       "</tr>\n",
       "<tr>\n",
       "     <td>2</td>      <td>4</td>    <td>234046.8223</td>  <td>208134.9229</td>   <td>259958.7218</td>  <td>True</td> \n",
       "</tr>\n",
       "<tr>\n",
       "     <td>2</td>      <td>5</td>    <td>385227.147</td>   <td>349096.9443</td>   <td>421357.3497</td>  <td>True</td> \n",
       "</tr>\n",
       "<tr>\n",
       "     <td>2</td>      <td>6</td>    <td>424147.9541</td>  <td>351058.7611</td>   <td>497237.1472</td>  <td>True</td> \n",
       "</tr>\n",
       "<tr>\n",
       "     <td>2</td>      <td>7</td>    <td>549811.976</td>   <td>361964.624</td>    <td>737659.328</td>   <td>True</td> \n",
       "</tr>\n",
       "<tr>\n",
       "     <td>2</td>      <td>8</td>    <td>703704.2412</td>  <td>383979.4744</td>   <td>1023429.008</td>  <td>True</td> \n",
       "</tr>\n",
       "<tr>\n",
       "     <td>2</td>      <td>9</td>    <td>492627.1514</td>  <td>22599.4184</td>    <td>962654.8845</td>  <td>True</td> \n",
       "</tr>\n",
       "<tr>\n",
       "     <td>2</td>     <td>10</td>    <td>417960.6514</td> <td>-246398.3685</td>  <td>1082319.6714</td>  <td>False</td>\n",
       "</tr>\n",
       "<tr>\n",
       "     <td>2</td>     <td>11</td>    <td>118627.3181</td> <td>-1031659.7147</td> <td>1268914.3509</td>  <td>False</td>\n",
       "</tr>\n",
       "<tr>\n",
       "     <td>2</td>     <td>33</td>    <td>238627.3181</td> <td>-911659.7147</td>  <td>1388914.3509</td>  <td>False</td>\n",
       "</tr>\n",
       "<tr>\n",
       "     <td>3</td>      <td>4</td>    <td>169187.4257</td>  <td>151108.9301</td>   <td>187265.9214</td>  <td>True</td> \n",
       "</tr>\n",
       "<tr>\n",
       "     <td>3</td>      <td>5</td>    <td>320367.7504</td>  <td>289371.0245</td>   <td>351364.4763</td>  <td>True</td> \n",
       "</tr>\n",
       "<tr>\n",
       "     <td>3</td>      <td>6</td>    <td>359288.5575</td>  <td>288596.0147</td>   <td>429981.1004</td>  <td>True</td> \n",
       "</tr>\n",
       "<tr>\n",
       "     <td>3</td>      <td>7</td>    <td>484952.5794</td>  <td>298024.6972</td>   <td>671880.4616</td>  <td>True</td> \n",
       "</tr>\n",
       "<tr>\n",
       "     <td>3</td>      <td>8</td>    <td>638844.8446</td>  <td>319659.4251</td>   <td>958030.2641</td>  <td>True</td> \n",
       "</tr>\n",
       "<tr>\n",
       "     <td>3</td>      <td>9</td>    <td>427767.7549</td>  <td>-41893.2669</td>   <td>897428.7766</td>  <td>False</td>\n",
       "</tr>\n",
       "<tr>\n",
       "     <td>3</td>     <td>10</td>    <td>353101.2549</td> <td>-310998.3709</td>  <td>1017200.8806</td>  <td>False</td>\n",
       "</tr>\n",
       "<tr>\n",
       "     <td>3</td>     <td>11</td>    <td>53767.9215</td>  <td>-1096369.3152</td> <td>1203905.1582</td>  <td>False</td>\n",
       "</tr>\n",
       "<tr>\n",
       "     <td>3</td>     <td>33</td>    <td>173767.9215</td> <td>-976369.3152</td>  <td>1323905.1582</td>  <td>False</td>\n",
       "</tr>\n",
       "<tr>\n",
       "     <td>4</td>      <td>5</td>    <td>151180.3246</td>  <td>119268.6721</td>   <td>183091.9772</td>  <td>True</td> \n",
       "</tr>\n",
       "<tr>\n",
       "     <td>4</td>      <td>6</td>    <td>190101.1318</td>  <td>119002.6637</td>   <td>261199.5999</td>  <td>True</td> \n",
       "</tr>\n",
       "<tr>\n",
       "     <td>4</td>      <td>7</td>    <td>315765.1537</td>  <td>128683.381</td>    <td>502846.9264</td>  <td>True</td> \n",
       "</tr>\n",
       "<tr>\n",
       "     <td>4</td>      <td>8</td>    <td>469657.4189</td>  <td>150381.8505</td>   <td>788932.9872</td>  <td>True</td> \n",
       "</tr>\n",
       "<tr>\n",
       "     <td>4</td>      <td>9</td>    <td>258580.3291</td> <td>-211141.9632</td>   <td>728302.6214</td>  <td>False</td>\n",
       "</tr>\n",
       "<tr>\n",
       "     <td>4</td>     <td>10</td>    <td>183913.8291</td> <td>-480229.1295</td>   <td>848056.7877</td>  <td>False</td>\n",
       "</tr>\n",
       "<tr>\n",
       "     <td>4</td>     <td>11</td>   <td>-115419.5042</td> <td>-1265581.7622</td> <td>1034742.7538</td>  <td>False</td>\n",
       "</tr>\n",
       "<tr>\n",
       "     <td>4</td>     <td>33</td>     <td>4580.4958</td>  <td>-1145581.7622</td> <td>1154742.7538</td>  <td>False</td>\n",
       "</tr>\n",
       "<tr>\n",
       "     <td>5</td>      <td>6</td>    <td>38920.8072</td>   <td>-36504.3689</td>   <td>114345.9832</td>  <td>False</td>\n",
       "</tr>\n",
       "<tr>\n",
       "     <td>5</td>      <td>7</td>    <td>164584.829</td>   <td>-24183.6924</td>   <td>353353.3505</td>  <td>False</td>\n",
       "</tr>\n",
       "<tr>\n",
       "     <td>5</td>      <td>8</td>    <td>318477.0942</td>  <td>-1789.7532</td>    <td>638743.9417</td>  <td>False</td>\n",
       "</tr>\n",
       "<tr>\n",
       "     <td>5</td>      <td>9</td>    <td>107400.0045</td> <td>-362996.6334</td>   <td>577796.6423</td>  <td>False</td>\n",
       "</tr>\n",
       "<tr>\n",
       "     <td>5</td>     <td>10</td>    <td>32733.5045</td>  <td>-631886.5633</td>   <td>697353.5722</td>  <td>False</td>\n",
       "</tr>\n",
       "<tr>\n",
       "     <td>5</td>     <td>11</td>   <td>-266599.8289</td> <td>-1417037.652</td>   <td>883837.9942</td>  <td>False</td>\n",
       "</tr>\n",
       "<tr>\n",
       "     <td>5</td>     <td>33</td>   <td>-146599.8289</td> <td>-1297037.652</td>  <td>1003837.9942</td>  <td>False</td>\n",
       "</tr>\n",
       "<tr>\n",
       "     <td>6</td>      <td>7</td>    <td>125664.0219</td>  <td>-73509.7548</td>   <td>324837.7985</td>  <td>False</td>\n",
       "</tr>\n",
       "<tr>\n",
       "     <td>6</td>      <td>8</td>    <td>279556.287</td>   <td>-46951.7407</td>   <td>606064.3148</td>  <td>False</td>\n",
       "</tr>\n",
       "<tr>\n",
       "     <td>6</td>      <td>9</td>    <td>68479.1973</td>   <td>-406188.724</td>   <td>543147.1186</td>  <td>False</td>\n",
       "</tr>\n",
       "<tr>\n",
       "     <td>6</td>     <td>10</td>    <td>-6187.3027</td>  <td>-673837.2657</td>   <td>661462.6603</td>  <td>False</td>\n",
       "</tr>\n",
       "<tr>\n",
       "     <td>6</td>     <td>11</td>    <td>-305520.636</td> <td>-1457711.5158</td>  <td>846670.2437</td>  <td>False</td>\n",
       "</tr>\n",
       "<tr>\n",
       "     <td>6</td>     <td>33</td>    <td>-185520.636</td> <td>-1337711.5158</td>  <td>966670.2437</td>  <td>False</td>\n",
       "</tr>\n",
       "<tr>\n",
       "     <td>7</td>      <td>8</td>    <td>153892.2652</td> <td>-215637.2867</td>   <td>523421.817</td>   <td>False</td>\n",
       "</tr>\n",
       "<tr>\n",
       "     <td>7</td>      <td>9</td>    <td>-57184.8246</td> <td>-562411.7369</td>   <td>448042.0878</td>  <td>False</td>\n",
       "</tr>\n",
       "<tr>\n",
       "     <td>7</td>     <td>10</td>   <td>-131851.3246</td> <td>-821562.1847</td>   <td>557859.5356</td>  <td>False</td>\n",
       "</tr>\n",
       "<tr>\n",
       "     <td>7</td>     <td>11</td>   <td>-431184.6579</td> <td>-1596297.7086</td>  <td>733928.3928</td>  <td>False</td>\n",
       "</tr>\n",
       "<tr>\n",
       "     <td>7</td>     <td>33</td>   <td>-311184.6579</td> <td>-1476297.7086</td>  <td>853928.3928</td>  <td>False</td>\n",
       "</tr>\n",
       "<tr>\n",
       "     <td>8</td>      <td>9</td>   <td>-211077.0897</td> <td>-778696.2683</td>   <td>356542.0888</td>  <td>False</td>\n",
       "</tr>\n",
       "<tr>\n",
       "     <td>8</td>     <td>10</td>   <td>-285743.5897</td> <td>-1022383.5082</td>  <td>450896.3287</td>  <td>False</td>\n",
       "</tr>\n",
       "<tr>\n",
       "     <td>8</td>     <td>11</td>   <td>-585076.9231</td> <td>-1778569.998</td>   <td>608416.1518</td>  <td>False</td>\n",
       "</tr>\n",
       "<tr>\n",
       "     <td>8</td>     <td>33</td>   <td>-465076.9231</td> <td>-1658569.998</td>   <td>728416.1518</td>  <td>False</td>\n",
       "</tr>\n",
       "<tr>\n",
       "     <td>9</td>     <td>10</td>     <td>-74666.5</td>   <td>-887894.9505</td>   <td>738561.9505</td>  <td>False</td>\n",
       "</tr>\n",
       "<tr>\n",
       "     <td>9</td>     <td>11</td>   <td>-373999.8333</td> <td>-1616226.8106</td>  <td>868227.144</td>   <td>False</td>\n",
       "</tr>\n",
       "<tr>\n",
       "     <td>9</td>     <td>33</td>   <td>-253999.8333</td> <td>-1496226.8106</td>  <td>988227.144</td>   <td>False</td>\n",
       "</tr>\n",
       "<tr>\n",
       "    <td>10</td>     <td>11</td>   <td>-299333.3333</td> <td>-1627329.8321</td> <td>1028663.1654</td>  <td>False</td>\n",
       "</tr>\n",
       "<tr>\n",
       "    <td>10</td>     <td>33</td>   <td>-179333.3333</td> <td>-1507329.8321</td> <td>1148663.1654</td>  <td>False</td>\n",
       "</tr>\n",
       "<tr>\n",
       "    <td>11</td>     <td>33</td>     <td>120000.0</td>   <td>-1506456.9011</td> <td>1746456.9011</td>  <td>False</td>\n",
       "</tr>\n",
       "</table>"
      ],
      "text/plain": [
       "<class 'statsmodels.iolib.table.SimpleTable'>"
      ]
     },
     "execution_count": 120,
     "metadata": {},
     "output_type": "execute_result"
    }
   ],
   "source": [
    "output.summary()"
   ]
  },
  {
   "cell_type": "code",
   "execution_count": 121,
   "metadata": {
    "collapsed": true
   },
   "outputs": [],
   "source": [
    "d = output.summary()"
   ]
  },
  {
   "cell_type": "code",
   "execution_count": 129,
   "metadata": {
    "collapsed": false
   },
   "outputs": [
    {
     "data": {
      "text/plain": [
       "[['group1', 'group2', 'meandiff', 'lower', 'upper', 'reject'],\n",
       " [0, 1, -91860.9617, -421089.3514, 237367.428, False],\n",
       " [0, 2, -8131.1643, -327855.9311, 311593.6026, False],\n",
       " [0, 3, 56728.2323, -262457.1871, 375913.6518, False],\n",
       " [0, 4, 225915.6581, -93359.9103, 545191.2264, False],\n",
       " [0, 5, 377095.9827, 56829.1353, 697362.8301, True],\n",
       " [0, 6, 416016.7899, 89508.7622, 742524.8176, True],\n",
       " [0, 7, 541680.8117, 172151.2599, 911210.3636, True],\n",
       " [0, 8, 695573.0769, 244475.0958, 1146671.058, True],\n",
       " [0, 9, 484495.9872, -83123.1914, 1052115.1657, False],\n",
       " [0, 10, 409829.4872, -326810.4313, 1146469.4056, False],\n",
       " [0, 11, 110496.1538, -1082996.921, 1303989.2287, False],\n",
       " [0, 33, 230496.1538, -962996.921, 1423989.2287, False],\n",
       " [1, 2, 83729.7975, -685.0743, 168144.6692, False],\n",
       " [1, 3, 148589.1941, 66240.6905, 230937.6977, True],\n",
       " [1, 4, 317776.6198, 235079.3853, 400473.8543, True],\n",
       " [1, 5, 468956.9444, 382511.5998, 555402.2891, True],\n",
       " [1, 6, 507877.7516, 400595.7111, 615159.7921, True],\n",
       " [1, 7, 633541.7735, 429939.1366, 837144.4103, True],\n",
       " [1, 8, 787434.0387, 458205.6489, 1116662.4284, True],\n",
       " [1, 9, 576356.9489, 99813.6918, 1052900.206, True],\n",
       " [1, 10, 501690.4489, -167294.0901, 1170674.988, False],\n",
       " [1, 11, 202357.1156, -950607.6124, 1355321.8435, False],\n",
       " [1, 33, 322357.1156, -830607.6124, 1475321.8435, False],\n",
       " [2, 3, 64859.3966, 40082.9969, 89635.7963, True],\n",
       " [2, 4, 234046.8223, 208134.9229, 259958.7218, True],\n",
       " [2, 5, 385227.147, 349096.9443, 421357.3497, True],\n",
       " [2, 6, 424147.9541, 351058.7611, 497237.1472, True],\n",
       " [2, 7, 549811.976, 361964.624, 737659.328, True],\n",
       " [2, 8, 703704.2412, 383979.4744, 1023429.008, True],\n",
       " [2, 9, 492627.1514, 22599.4184, 962654.8845, True],\n",
       " [2, 10, 417960.6514, -246398.3685, 1082319.6714, False],\n",
       " [2, 11, 118627.3181, -1031659.7147, 1268914.3509, False],\n",
       " [2, 33, 238627.3181, -911659.7147, 1388914.3509, False],\n",
       " [3, 4, 169187.4257, 151108.9301, 187265.9214, True],\n",
       " [3, 5, 320367.7504, 289371.0245, 351364.4763, True],\n",
       " [3, 6, 359288.5575, 288596.0147, 429981.1004, True],\n",
       " [3, 7, 484952.5794, 298024.6972, 671880.4616, True],\n",
       " [3, 8, 638844.8446, 319659.4251, 958030.2641, True],\n",
       " [3, 9, 427767.7549, -41893.2669, 897428.7766, False],\n",
       " [3, 10, 353101.2549, -310998.3709, 1017200.8806, False],\n",
       " [3, 11, 53767.9215, -1096369.3152, 1203905.1582, False],\n",
       " [3, 33, 173767.9215, -976369.3152, 1323905.1582, False],\n",
       " [4, 5, 151180.3246, 119268.6721, 183091.9772, True],\n",
       " [4, 6, 190101.1318, 119002.6637, 261199.5999, True],\n",
       " [4, 7, 315765.1537, 128683.381, 502846.9264, True],\n",
       " [4, 8, 469657.4189, 150381.8505, 788932.9872, True],\n",
       " [4, 9, 258580.3291, -211141.9632, 728302.6214, False],\n",
       " [4, 10, 183913.8291, -480229.1295, 848056.7877, False],\n",
       " [4, 11, -115419.5042, -1265581.7622, 1034742.7538, False],\n",
       " [4, 33, 4580.4958, -1145581.7622, 1154742.7538, False],\n",
       " [5, 6, 38920.8072, -36504.3689, 114345.9832, False],\n",
       " [5, 7, 164584.829, -24183.6924, 353353.3505, False],\n",
       " [5, 8, 318477.0942, -1789.7532, 638743.9417, False],\n",
       " [5, 9, 107400.0045, -362996.6334, 577796.6423, False],\n",
       " [5, 10, 32733.5045, -631886.5633, 697353.5722, False],\n",
       " [5, 11, -266599.8289, -1417037.652, 883837.9942, False],\n",
       " [5, 33, -146599.8289, -1297037.652, 1003837.9942, False],\n",
       " [6, 7, 125664.0219, -73509.7548, 324837.7985, False],\n",
       " [6, 8, 279556.287, -46951.7407, 606064.3148, False],\n",
       " [6, 9, 68479.1973, -406188.724, 543147.1186, False],\n",
       " [6, 10, -6187.3027, -673837.2657, 661462.6603, False],\n",
       " [6, 11, -305520.636, -1457711.5158, 846670.2437, False],\n",
       " [6, 33, -185520.636, -1337711.5158, 966670.2437, False],\n",
       " [7, 8, 153892.2652, -215637.2867, 523421.817, False],\n",
       " [7, 9, -57184.8246, -562411.7369, 448042.0878, False],\n",
       " [7, 10, -131851.3246, -821562.1847, 557859.5356, False],\n",
       " [7, 11, -431184.6579, -1596297.7086, 733928.3928, False],\n",
       " [7, 33, -311184.6579, -1476297.7086, 853928.3928, False],\n",
       " [8, 9, -211077.0897, -778696.2683, 356542.0888, False],\n",
       " [8, 10, -285743.5897, -1022383.5082, 450896.3287, False],\n",
       " [8, 11, -585076.9231, -1778569.998, 608416.1518, False],\n",
       " [8, 33, -465076.9231, -1658569.998, 728416.1518, False],\n",
       " [9, 10, -74666.5, -887894.9505, 738561.9505, False],\n",
       " [9, 11, -373999.8333, -1616226.8106, 868227.144, False],\n",
       " [9, 33, -253999.8333, -1496226.8106, 988227.144, False],\n",
       " [10, 11, -299333.3333, -1627329.8321, 1028663.1654, False],\n",
       " [10, 33, -179333.3333, -1507329.8321, 1148663.1654, False]]"
      ]
     },
     "execution_count": 129,
     "metadata": {},
     "output_type": "execute_result"
    }
   ],
   "source": [
    "d.data[:-1]"
   ]
  },
  {
   "cell_type": "code",
   "execution_count": 130,
   "metadata": {
    "collapsed": false
   },
   "outputs": [
    {
     "data": {
      "text/html": [
       "<div>\n",
       "<style scoped>\n",
       "    .dataframe tbody tr th:only-of-type {\n",
       "        vertical-align: middle;\n",
       "    }\n",
       "\n",
       "    .dataframe tbody tr th {\n",
       "        vertical-align: top;\n",
       "    }\n",
       "\n",
       "    .dataframe thead th {\n",
       "        text-align: right;\n",
       "    }\n",
       "</style>\n",
       "<table border=\"1\" class=\"dataframe\">\n",
       "  <thead>\n",
       "    <tr style=\"text-align: right;\">\n",
       "      <th></th>\n",
       "      <th>id</th>\n",
       "      <th>date</th>\n",
       "      <th>price</th>\n",
       "      <th>bedrooms</th>\n",
       "      <th>bathrooms</th>\n",
       "      <th>sqft_living</th>\n",
       "      <th>sqft_lot</th>\n",
       "      <th>floors</th>\n",
       "      <th>waterfront</th>\n",
       "      <th>view</th>\n",
       "      <th>...</th>\n",
       "      <th>sqft_above</th>\n",
       "      <th>sqft_basement</th>\n",
       "      <th>yr_built</th>\n",
       "      <th>yr_renovated</th>\n",
       "      <th>zipcode</th>\n",
       "      <th>lat</th>\n",
       "      <th>long</th>\n",
       "      <th>sqft_living15</th>\n",
       "      <th>sqft_lot15</th>\n",
       "      <th>price_norm</th>\n",
       "    </tr>\n",
       "  </thead>\n",
       "  <tbody>\n",
       "    <tr>\n",
       "      <th>0</th>\n",
       "      <td>7129300520</td>\n",
       "      <td>20141013T000000</td>\n",
       "      <td>221900.0</td>\n",
       "      <td>3</td>\n",
       "      <td>1.00</td>\n",
       "      <td>1180</td>\n",
       "      <td>5650</td>\n",
       "      <td>1.0</td>\n",
       "      <td>0</td>\n",
       "      <td>0</td>\n",
       "      <td>...</td>\n",
       "      <td>1180</td>\n",
       "      <td>0</td>\n",
       "      <td>1955</td>\n",
       "      <td>0</td>\n",
       "      <td>98178</td>\n",
       "      <td>47.5112</td>\n",
       "      <td>-122.257</td>\n",
       "      <td>1340</td>\n",
       "      <td>5650</td>\n",
       "      <td>-0.866697</td>\n",
       "    </tr>\n",
       "    <tr>\n",
       "      <th>1</th>\n",
       "      <td>6414100192</td>\n",
       "      <td>20141209T000000</td>\n",
       "      <td>538000.0</td>\n",
       "      <td>3</td>\n",
       "      <td>2.25</td>\n",
       "      <td>2570</td>\n",
       "      <td>7242</td>\n",
       "      <td>2.0</td>\n",
       "      <td>0</td>\n",
       "      <td>0</td>\n",
       "      <td>...</td>\n",
       "      <td>2170</td>\n",
       "      <td>400</td>\n",
       "      <td>1951</td>\n",
       "      <td>1991</td>\n",
       "      <td>98125</td>\n",
       "      <td>47.7210</td>\n",
       "      <td>-122.319</td>\n",
       "      <td>1690</td>\n",
       "      <td>7639</td>\n",
       "      <td>-0.005688</td>\n",
       "    </tr>\n",
       "    <tr>\n",
       "      <th>2</th>\n",
       "      <td>5631500400</td>\n",
       "      <td>20150225T000000</td>\n",
       "      <td>180000.0</td>\n",
       "      <td>2</td>\n",
       "      <td>1.00</td>\n",
       "      <td>770</td>\n",
       "      <td>10000</td>\n",
       "      <td>1.0</td>\n",
       "      <td>0</td>\n",
       "      <td>0</td>\n",
       "      <td>...</td>\n",
       "      <td>770</td>\n",
       "      <td>0</td>\n",
       "      <td>1933</td>\n",
       "      <td>0</td>\n",
       "      <td>98028</td>\n",
       "      <td>47.7379</td>\n",
       "      <td>-122.233</td>\n",
       "      <td>2720</td>\n",
       "      <td>8062</td>\n",
       "      <td>-0.980827</td>\n",
       "    </tr>\n",
       "    <tr>\n",
       "      <th>3</th>\n",
       "      <td>2487200875</td>\n",
       "      <td>20141209T000000</td>\n",
       "      <td>604000.0</td>\n",
       "      <td>4</td>\n",
       "      <td>3.00</td>\n",
       "      <td>1960</td>\n",
       "      <td>5000</td>\n",
       "      <td>1.0</td>\n",
       "      <td>0</td>\n",
       "      <td>0</td>\n",
       "      <td>...</td>\n",
       "      <td>1050</td>\n",
       "      <td>910</td>\n",
       "      <td>1965</td>\n",
       "      <td>0</td>\n",
       "      <td>98136</td>\n",
       "      <td>47.5208</td>\n",
       "      <td>-122.393</td>\n",
       "      <td>1360</td>\n",
       "      <td>5000</td>\n",
       "      <td>0.174086</td>\n",
       "    </tr>\n",
       "    <tr>\n",
       "      <th>4</th>\n",
       "      <td>1954400510</td>\n",
       "      <td>20150218T000000</td>\n",
       "      <td>510000.0</td>\n",
       "      <td>3</td>\n",
       "      <td>2.00</td>\n",
       "      <td>1680</td>\n",
       "      <td>8080</td>\n",
       "      <td>1.0</td>\n",
       "      <td>0</td>\n",
       "      <td>0</td>\n",
       "      <td>...</td>\n",
       "      <td>1680</td>\n",
       "      <td>0</td>\n",
       "      <td>1987</td>\n",
       "      <td>0</td>\n",
       "      <td>98074</td>\n",
       "      <td>47.6168</td>\n",
       "      <td>-122.045</td>\n",
       "      <td>1800</td>\n",
       "      <td>7503</td>\n",
       "      <td>-0.081956</td>\n",
       "    </tr>\n",
       "  </tbody>\n",
       "</table>\n",
       "<p>5 rows × 22 columns</p>\n",
       "</div>"
      ],
      "text/plain": [
       "           id             date     price  bedrooms  bathrooms  sqft_living  \\\n",
       "0  7129300520  20141013T000000  221900.0         3       1.00         1180   \n",
       "1  6414100192  20141209T000000  538000.0         3       2.25         2570   \n",
       "2  5631500400  20150225T000000  180000.0         2       1.00          770   \n",
       "3  2487200875  20141209T000000  604000.0         4       3.00         1960   \n",
       "4  1954400510  20150218T000000  510000.0         3       2.00         1680   \n",
       "\n",
       "   sqft_lot  floors  waterfront  view     ...      sqft_above  sqft_basement  \\\n",
       "0      5650     1.0           0     0     ...            1180              0   \n",
       "1      7242     2.0           0     0     ...            2170            400   \n",
       "2     10000     1.0           0     0     ...             770              0   \n",
       "3      5000     1.0           0     0     ...            1050            910   \n",
       "4      8080     1.0           0     0     ...            1680              0   \n",
       "\n",
       "   yr_built  yr_renovated  zipcode      lat     long  sqft_living15  \\\n",
       "0      1955             0    98178  47.5112 -122.257           1340   \n",
       "1      1951          1991    98125  47.7210 -122.319           1690   \n",
       "2      1933             0    98028  47.7379 -122.233           2720   \n",
       "3      1965             0    98136  47.5208 -122.393           1360   \n",
       "4      1987             0    98074  47.6168 -122.045           1800   \n",
       "\n",
       "   sqft_lot15  price_norm  \n",
       "0        5650   -0.866697  \n",
       "1        7639   -0.005688  \n",
       "2        8062   -0.980827  \n",
       "3        5000    0.174086  \n",
       "4        7503   -0.081956  \n",
       "\n",
       "[5 rows x 22 columns]"
      ]
     },
     "execution_count": 130,
     "metadata": {},
     "output_type": "execute_result"
    }
   ],
   "source": [
    "df.head()"
   ]
  },
  {
   "cell_type": "code",
   "execution_count": null,
   "metadata": {
    "collapsed": true
   },
   "outputs": [],
   "source": [
    "# Exploratory Data Analysis\n",
    "\n",
    "# Unvariate: Distpolot,\n",
    "\n",
    "# Bivariate: Boxplot, t-test\n",
    "\n",
    "# Multivariate: anova, scatterplot"
   ]
  },
  {
   "cell_type": "code",
   "execution_count": 132,
   "metadata": {
    "collapsed": false
   },
   "outputs": [
    {
     "data": {
      "text/plain": [
       "{0, 1}"
      ]
     },
     "execution_count": 132,
     "metadata": {},
     "output_type": "execute_result"
    }
   ],
   "source": [
    "set(df.waterfront)"
   ]
  },
  {
   "cell_type": "code",
   "execution_count": 108,
   "metadata": {
    "collapsed": false
   },
   "outputs": [
    {
     "data": {
      "text/html": [
       "<div>\n",
       "<style scoped>\n",
       "    .dataframe tbody tr th:only-of-type {\n",
       "        vertical-align: middle;\n",
       "    }\n",
       "\n",
       "    .dataframe tbody tr th {\n",
       "        vertical-align: top;\n",
       "    }\n",
       "\n",
       "    .dataframe thead th {\n",
       "        text-align: right;\n",
       "    }\n",
       "</style>\n",
       "<table border=\"1\" class=\"dataframe\">\n",
       "  <thead>\n",
       "    <tr style=\"text-align: right;\">\n",
       "      <th></th>\n",
       "      <th>price</th>\n",
       "      <th>sqft_living</th>\n",
       "    </tr>\n",
       "    <tr>\n",
       "      <th>bedrooms</th>\n",
       "      <th></th>\n",
       "      <th></th>\n",
       "    </tr>\n",
       "  </thead>\n",
       "  <tbody>\n",
       "    <tr>\n",
       "      <th>0</th>\n",
       "      <td>409504.0</td>\n",
       "      <td>1708.0</td>\n",
       "    </tr>\n",
       "    <tr>\n",
       "      <th>1</th>\n",
       "      <td>317643.0</td>\n",
       "      <td>885.0</td>\n",
       "    </tr>\n",
       "    <tr>\n",
       "      <th>2</th>\n",
       "      <td>401373.0</td>\n",
       "      <td>1240.0</td>\n",
       "    </tr>\n",
       "    <tr>\n",
       "      <th>3</th>\n",
       "      <td>466232.0</td>\n",
       "      <td>1806.0</td>\n",
       "    </tr>\n",
       "    <tr>\n",
       "      <th>4</th>\n",
       "      <td>635420.0</td>\n",
       "      <td>2555.0</td>\n",
       "    </tr>\n",
       "    <tr>\n",
       "      <th>5</th>\n",
       "      <td>786600.0</td>\n",
       "      <td>3048.0</td>\n",
       "    </tr>\n",
       "    <tr>\n",
       "      <th>6</th>\n",
       "      <td>825521.0</td>\n",
       "      <td>3284.0</td>\n",
       "    </tr>\n",
       "    <tr>\n",
       "      <th>7</th>\n",
       "      <td>951185.0</td>\n",
       "      <td>3974.0</td>\n",
       "    </tr>\n",
       "    <tr>\n",
       "      <th>8</th>\n",
       "      <td>1105077.0</td>\n",
       "      <td>3800.0</td>\n",
       "    </tr>\n",
       "    <tr>\n",
       "      <th>9</th>\n",
       "      <td>894000.0</td>\n",
       "      <td>3775.0</td>\n",
       "    </tr>\n",
       "    <tr>\n",
       "      <th>10</th>\n",
       "      <td>819333.0</td>\n",
       "      <td>3707.0</td>\n",
       "    </tr>\n",
       "    <tr>\n",
       "      <th>11</th>\n",
       "      <td>520000.0</td>\n",
       "      <td>3000.0</td>\n",
       "    </tr>\n",
       "    <tr>\n",
       "      <th>33</th>\n",
       "      <td>640000.0</td>\n",
       "      <td>1620.0</td>\n",
       "    </tr>\n",
       "  </tbody>\n",
       "</table>\n",
       "</div>"
      ],
      "text/plain": [
       "              price  sqft_living\n",
       "bedrooms                        \n",
       "0          409504.0       1708.0\n",
       "1          317643.0        885.0\n",
       "2          401373.0       1240.0\n",
       "3          466232.0       1806.0\n",
       "4          635420.0       2555.0\n",
       "5          786600.0       3048.0\n",
       "6          825521.0       3284.0\n",
       "7          951185.0       3974.0\n",
       "8         1105077.0       3800.0\n",
       "9          894000.0       3775.0\n",
       "10         819333.0       3707.0\n",
       "11         520000.0       3000.0\n",
       "33         640000.0       1620.0"
      ]
     },
     "execution_count": 108,
     "metadata": {},
     "output_type": "execute_result"
    }
   ],
   "source": [
    "np.round((pd.pivot_table(data=df,\n",
    "                     index=['bedrooms'], \n",
    "                     #columns='item', \n",
    "                     values=['price','sqft_living'], \n",
    "                     aggfunc=np.mean)),0)"
   ]
  },
  {
   "cell_type": "code",
   "execution_count": 51,
   "metadata": {
    "collapsed": true
   },
   "outputs": [],
   "source": [
    "df_dum = pd.get_dummies(df.bedrooms,prefix='bedrooms',drop_first=True)"
   ]
  },
  {
   "cell_type": "code",
   "execution_count": 55,
   "metadata": {
    "collapsed": true
   },
   "outputs": [],
   "source": [
    "df1 = pd.concat([df[['price','bathrooms','sqft_living']],df_dum],axis=1)"
   ]
  },
  {
   "cell_type": "code",
   "execution_count": 57,
   "metadata": {
    "collapsed": false
   },
   "outputs": [
    {
     "data": {
      "text/html": [
       "<div>\n",
       "<style scoped>\n",
       "    .dataframe tbody tr th:only-of-type {\n",
       "        vertical-align: middle;\n",
       "    }\n",
       "\n",
       "    .dataframe tbody tr th {\n",
       "        vertical-align: top;\n",
       "    }\n",
       "\n",
       "    .dataframe thead th {\n",
       "        text-align: right;\n",
       "    }\n",
       "</style>\n",
       "<table border=\"1\" class=\"dataframe\">\n",
       "  <thead>\n",
       "    <tr style=\"text-align: right;\">\n",
       "      <th></th>\n",
       "      <th>price</th>\n",
       "      <th>bathrooms</th>\n",
       "      <th>sqft_living</th>\n",
       "      <th>bedrooms_1</th>\n",
       "      <th>bedrooms_2</th>\n",
       "      <th>bedrooms_3</th>\n",
       "      <th>bedrooms_4</th>\n",
       "      <th>bedrooms_5</th>\n",
       "      <th>bedrooms_6</th>\n",
       "      <th>bedrooms_7</th>\n",
       "      <th>bedrooms_8</th>\n",
       "      <th>bedrooms_9</th>\n",
       "      <th>bedrooms_10</th>\n",
       "      <th>bedrooms_11</th>\n",
       "      <th>bedrooms_33</th>\n",
       "    </tr>\n",
       "  </thead>\n",
       "  <tbody>\n",
       "    <tr>\n",
       "      <th>0</th>\n",
       "      <td>221900.0</td>\n",
       "      <td>1.00</td>\n",
       "      <td>1180</td>\n",
       "      <td>0</td>\n",
       "      <td>0</td>\n",
       "      <td>1</td>\n",
       "      <td>0</td>\n",
       "      <td>0</td>\n",
       "      <td>0</td>\n",
       "      <td>0</td>\n",
       "      <td>0</td>\n",
       "      <td>0</td>\n",
       "      <td>0</td>\n",
       "      <td>0</td>\n",
       "      <td>0</td>\n",
       "    </tr>\n",
       "    <tr>\n",
       "      <th>1</th>\n",
       "      <td>538000.0</td>\n",
       "      <td>2.25</td>\n",
       "      <td>2570</td>\n",
       "      <td>0</td>\n",
       "      <td>0</td>\n",
       "      <td>1</td>\n",
       "      <td>0</td>\n",
       "      <td>0</td>\n",
       "      <td>0</td>\n",
       "      <td>0</td>\n",
       "      <td>0</td>\n",
       "      <td>0</td>\n",
       "      <td>0</td>\n",
       "      <td>0</td>\n",
       "      <td>0</td>\n",
       "    </tr>\n",
       "    <tr>\n",
       "      <th>2</th>\n",
       "      <td>180000.0</td>\n",
       "      <td>1.00</td>\n",
       "      <td>770</td>\n",
       "      <td>0</td>\n",
       "      <td>1</td>\n",
       "      <td>0</td>\n",
       "      <td>0</td>\n",
       "      <td>0</td>\n",
       "      <td>0</td>\n",
       "      <td>0</td>\n",
       "      <td>0</td>\n",
       "      <td>0</td>\n",
       "      <td>0</td>\n",
       "      <td>0</td>\n",
       "      <td>0</td>\n",
       "    </tr>\n",
       "    <tr>\n",
       "      <th>3</th>\n",
       "      <td>604000.0</td>\n",
       "      <td>3.00</td>\n",
       "      <td>1960</td>\n",
       "      <td>0</td>\n",
       "      <td>0</td>\n",
       "      <td>0</td>\n",
       "      <td>1</td>\n",
       "      <td>0</td>\n",
       "      <td>0</td>\n",
       "      <td>0</td>\n",
       "      <td>0</td>\n",
       "      <td>0</td>\n",
       "      <td>0</td>\n",
       "      <td>0</td>\n",
       "      <td>0</td>\n",
       "    </tr>\n",
       "    <tr>\n",
       "      <th>4</th>\n",
       "      <td>510000.0</td>\n",
       "      <td>2.00</td>\n",
       "      <td>1680</td>\n",
       "      <td>0</td>\n",
       "      <td>0</td>\n",
       "      <td>1</td>\n",
       "      <td>0</td>\n",
       "      <td>0</td>\n",
       "      <td>0</td>\n",
       "      <td>0</td>\n",
       "      <td>0</td>\n",
       "      <td>0</td>\n",
       "      <td>0</td>\n",
       "      <td>0</td>\n",
       "      <td>0</td>\n",
       "    </tr>\n",
       "  </tbody>\n",
       "</table>\n",
       "</div>"
      ],
      "text/plain": [
       "      price  bathrooms  sqft_living  bedrooms_1  bedrooms_2  bedrooms_3  \\\n",
       "0  221900.0       1.00         1180           0           0           1   \n",
       "1  538000.0       2.25         2570           0           0           1   \n",
       "2  180000.0       1.00          770           0           1           0   \n",
       "3  604000.0       3.00         1960           0           0           0   \n",
       "4  510000.0       2.00         1680           0           0           1   \n",
       "\n",
       "   bedrooms_4  bedrooms_5  bedrooms_6  bedrooms_7  bedrooms_8  bedrooms_9  \\\n",
       "0           0           0           0           0           0           0   \n",
       "1           0           0           0           0           0           0   \n",
       "2           0           0           0           0           0           0   \n",
       "3           1           0           0           0           0           0   \n",
       "4           0           0           0           0           0           0   \n",
       "\n",
       "   bedrooms_10  bedrooms_11  bedrooms_33  \n",
       "0            0            0            0  \n",
       "1            0            0            0  \n",
       "2            0            0            0  \n",
       "3            0            0            0  \n",
       "4            0            0            0  "
      ]
     },
     "execution_count": 57,
     "metadata": {},
     "output_type": "execute_result"
    }
   ],
   "source": [
    "df1.head()"
   ]
  },
  {
   "cell_type": "code",
   "execution_count": 59,
   "metadata": {
    "collapsed": false
   },
   "outputs": [
    {
     "data": {
      "text/plain": [
       "Index(['price', 'bathrooms', 'sqft_living', 'bedrooms_1', 'bedrooms_2',\n",
       "       'bedrooms_3', 'bedrooms_4', 'bedrooms_5', 'bedrooms_6', 'bedrooms_7',\n",
       "       'bedrooms_8', 'bedrooms_9', 'bedrooms_10', 'bedrooms_11',\n",
       "       'bedrooms_33'],\n",
       "      dtype='object')"
      ]
     },
     "execution_count": 59,
     "metadata": {},
     "output_type": "execute_result"
    }
   ],
   "source": [
    "df1.columns"
   ]
  },
  {
   "cell_type": "code",
   "execution_count": 60,
   "metadata": {
    "collapsed": false
   },
   "outputs": [
    {
     "name": "stdout",
     "output_type": "stream",
     "text": [
      "0.5141921436634806\n",
      "0.5101680924682093\n"
     ]
    }
   ],
   "source": [
    "xtrain = df1[['bathrooms', 'sqft_living', 'bedrooms_1', 'bedrooms_2',\n",
    "       'bedrooms_3', 'bedrooms_4', 'bedrooms_5', 'bedrooms_6', 'bedrooms_7',\n",
    "       'bedrooms_8', 'bedrooms_9', 'bedrooms_10', 'bedrooms_11',\n",
    "       'bedrooms_33']]\n",
    "\n",
    "ytrain= df1['price']\n",
    "\n",
    "x_train, x_test, y_train, y_test = train_test_split(xtrain,ytrain,test_size=0.30,random_state=1234)\n",
    "\n",
    "x_train.shape, x_test.shape, y_train.shape, y_test.shape\n",
    "\n",
    "from sklearn.linear_model import LinearRegression\n",
    "\n",
    "model1 = LinearRegression()\n",
    "\n",
    "model1.fit(x_train,y_train)\n",
    "\n",
    "print(model1.score(x_train,y_train))\n",
    "\n",
    "print(model1.score(x_test,y_test))"
   ]
  },
  {
   "cell_type": "code",
   "execution_count": 61,
   "metadata": {
    "collapsed": true
   },
   "outputs": [],
   "source": [
    "adj_r = 1/ 1-(model1.score(x_test,y_test))"
   ]
  },
  {
   "cell_type": "code",
   "execution_count": 62,
   "metadata": {
    "collapsed": false
   },
   "outputs": [
    {
     "data": {
      "text/plain": [
       "0.48983190753179073"
      ]
     },
     "execution_count": 62,
     "metadata": {},
     "output_type": "execute_result"
    }
   ],
   "source": [
    "adj_r"
   ]
  },
  {
   "cell_type": "code",
   "execution_count": 69,
   "metadata": {
    "collapsed": false
   },
   "outputs": [
    {
     "data": {
      "text/plain": [
       "array([ 7.1641500e+03,  3.1738000e+02,  2.0423155e+05,  1.6668975e+05,\n",
       "        5.2429470e+04, -1.8488540e+04, -2.4075500e+04, -9.1645930e+04,\n",
       "       -1.7007316e+05, -1.1926360e+04, -1.3340089e+05, -3.3846043e+05,\n",
       "       -2.8202567e+05,  2.8490740e+05])"
      ]
     },
     "execution_count": 69,
     "metadata": {},
     "output_type": "execute_result"
    }
   ],
   "source": [
    "np.round(model1.coef_,2)"
   ]
  },
  {
   "cell_type": "code",
   "execution_count": 70,
   "metadata": {
    "collapsed": false
   },
   "outputs": [
    {
     "name": "stderr",
     "output_type": "stream",
     "text": [
      "/Applications/anaconda3/lib/python3.6/site-packages/scipy/stats/stats.py:1706: FutureWarning: Using a non-tuple sequence for multidimensional indexing is deprecated; use `arr[tuple(seq)]` instead of `arr[seq]`. In the future this will be interpreted as an array index, `arr[np.array(seq)]`, which will result either in an error or a different result.\n",
      "  return np.add.reduce(sorted[indexer] * weights, axis=axis) / sumval\n"
     ]
    },
    {
     "data": {
      "text/plain": [
       "<matplotlib.axes._subplots.AxesSubplot at 0x1a2db586a0>"
      ]
     },
     "execution_count": 70,
     "metadata": {},
     "output_type": "execute_result"
    },
    {
     "data": {
      "image/png": "[encoded data removed]",
      "text/plain": [
       "<matplotlib.figure.Figure at 0x1a2ac00240>"
      ]
     },
     "metadata": {},
     "output_type": "display_data"
    }
   ],
   "source": [
    "sns.distplot(df.sqft_living)"
   ]
  },
  {
   "cell_type": "code",
   "execution_count": 86,
   "metadata": {
    "collapsed": false
   },
   "outputs": [
    {
     "data": {
      "text/plain": [
       "(1910.0, 2550.0]     0.251423\n",
       "(1427.0, 1910.0]     0.250590\n",
       "(289.999, 1427.0]    0.250035\n",
       "(2550.0, 13540.0]    0.247953\n",
       "Name: sqft_living, dtype: float64"
      ]
     },
     "execution_count": 86,
     "metadata": {},
     "output_type": "execute_result"
    }
   ],
   "source": [
    "pd.qcut(df.sqft_living,q=[0, .25, .5, .75, 1.]).value_counts()/df.shape[0]"
   ]
  },
  {
   "cell_type": "code",
   "execution_count": 77,
   "metadata": {
    "collapsed": true
   },
   "outputs": [],
   "source": [
    "dd = pd.qcut(df.sqft_living,q=[0, .25, .5, .75, 1.])"
   ]
  },
  {
   "cell_type": "code",
   "execution_count": 81,
   "metadata": {
    "collapsed": true
   },
   "outputs": [],
   "source": [
    "dd = pd.Categorical(dd)"
   ]
  },
  {
   "cell_type": "code",
   "execution_count": 85,
   "metadata": {
    "collapsed": false
   },
   "outputs": [
    {
     "data": {
      "text/html": [
       "<div>\n",
       "<style scoped>\n",
       "    .dataframe tbody tr th:only-of-type {\n",
       "        vertical-align: middle;\n",
       "    }\n",
       "\n",
       "    .dataframe tbody tr th {\n",
       "        vertical-align: top;\n",
       "    }\n",
       "\n",
       "    .dataframe thead th {\n",
       "        text-align: right;\n",
       "    }\n",
       "</style>\n",
       "<table border=\"1\" class=\"dataframe\">\n",
       "  <thead>\n",
       "    <tr style=\"text-align: right;\">\n",
       "      <th></th>\n",
       "      <th>sqft_living_(1427.0, 1910.0]</th>\n",
       "      <th>sqft_living_(1910.0, 2550.0]</th>\n",
       "      <th>sqft_living_(2550.0, 13540.0]</th>\n",
       "    </tr>\n",
       "  </thead>\n",
       "  <tbody>\n",
       "    <tr>\n",
       "      <th>0</th>\n",
       "      <td>0</td>\n",
       "      <td>0</td>\n",
       "      <td>0</td>\n",
       "    </tr>\n",
       "    <tr>\n",
       "      <th>1</th>\n",
       "      <td>0</td>\n",
       "      <td>0</td>\n",
       "      <td>1</td>\n",
       "    </tr>\n",
       "    <tr>\n",
       "      <th>2</th>\n",
       "      <td>0</td>\n",
       "      <td>0</td>\n",
       "      <td>0</td>\n",
       "    </tr>\n",
       "    <tr>\n",
       "      <th>3</th>\n",
       "      <td>0</td>\n",
       "      <td>1</td>\n",
       "      <td>0</td>\n",
       "    </tr>\n",
       "    <tr>\n",
       "      <th>4</th>\n",
       "      <td>1</td>\n",
       "      <td>0</td>\n",
       "      <td>0</td>\n",
       "    </tr>\n",
       "    <tr>\n",
       "      <th>5</th>\n",
       "      <td>0</td>\n",
       "      <td>0</td>\n",
       "      <td>1</td>\n",
       "    </tr>\n",
       "    <tr>\n",
       "      <th>6</th>\n",
       "      <td>1</td>\n",
       "      <td>0</td>\n",
       "      <td>0</td>\n",
       "    </tr>\n",
       "    <tr>\n",
       "      <th>7</th>\n",
       "      <td>0</td>\n",
       "      <td>0</td>\n",
       "      <td>0</td>\n",
       "    </tr>\n",
       "    <tr>\n",
       "      <th>8</th>\n",
       "      <td>1</td>\n",
       "      <td>0</td>\n",
       "      <td>0</td>\n",
       "    </tr>\n",
       "    <tr>\n",
       "      <th>9</th>\n",
       "      <td>1</td>\n",
       "      <td>0</td>\n",
       "      <td>0</td>\n",
       "    </tr>\n",
       "    <tr>\n",
       "      <th>10</th>\n",
       "      <td>0</td>\n",
       "      <td>0</td>\n",
       "      <td>1</td>\n",
       "    </tr>\n",
       "    <tr>\n",
       "      <th>11</th>\n",
       "      <td>0</td>\n",
       "      <td>0</td>\n",
       "      <td>0</td>\n",
       "    </tr>\n",
       "    <tr>\n",
       "      <th>12</th>\n",
       "      <td>1</td>\n",
       "      <td>0</td>\n",
       "      <td>0</td>\n",
       "    </tr>\n",
       "    <tr>\n",
       "      <th>13</th>\n",
       "      <td>0</td>\n",
       "      <td>0</td>\n",
       "      <td>0</td>\n",
       "    </tr>\n",
       "    <tr>\n",
       "      <th>14</th>\n",
       "      <td>1</td>\n",
       "      <td>0</td>\n",
       "      <td>0</td>\n",
       "    </tr>\n",
       "    <tr>\n",
       "      <th>15</th>\n",
       "      <td>0</td>\n",
       "      <td>0</td>\n",
       "      <td>1</td>\n",
       "    </tr>\n",
       "    <tr>\n",
       "      <th>16</th>\n",
       "      <td>1</td>\n",
       "      <td>0</td>\n",
       "      <td>0</td>\n",
       "    </tr>\n",
       "    <tr>\n",
       "      <th>17</th>\n",
       "      <td>1</td>\n",
       "      <td>0</td>\n",
       "      <td>0</td>\n",
       "    </tr>\n",
       "    <tr>\n",
       "      <th>18</th>\n",
       "      <td>0</td>\n",
       "      <td>0</td>\n",
       "      <td>0</td>\n",
       "    </tr>\n",
       "    <tr>\n",
       "      <th>19</th>\n",
       "      <td>0</td>\n",
       "      <td>0</td>\n",
       "      <td>0</td>\n",
       "    </tr>\n",
       "    <tr>\n",
       "      <th>20</th>\n",
       "      <td>1</td>\n",
       "      <td>0</td>\n",
       "      <td>0</td>\n",
       "    </tr>\n",
       "    <tr>\n",
       "      <th>21</th>\n",
       "      <td>0</td>\n",
       "      <td>0</td>\n",
       "      <td>1</td>\n",
       "    </tr>\n",
       "    <tr>\n",
       "      <th>22</th>\n",
       "      <td>0</td>\n",
       "      <td>1</td>\n",
       "      <td>0</td>\n",
       "    </tr>\n",
       "    <tr>\n",
       "      <th>23</th>\n",
       "      <td>0</td>\n",
       "      <td>0</td>\n",
       "      <td>0</td>\n",
       "    </tr>\n",
       "    <tr>\n",
       "      <th>24</th>\n",
       "      <td>0</td>\n",
       "      <td>1</td>\n",
       "      <td>0</td>\n",
       "    </tr>\n",
       "    <tr>\n",
       "      <th>25</th>\n",
       "      <td>1</td>\n",
       "      <td>0</td>\n",
       "      <td>0</td>\n",
       "    </tr>\n",
       "    <tr>\n",
       "      <th>26</th>\n",
       "      <td>0</td>\n",
       "      <td>1</td>\n",
       "      <td>0</td>\n",
       "    </tr>\n",
       "    <tr>\n",
       "      <th>27</th>\n",
       "      <td>0</td>\n",
       "      <td>0</td>\n",
       "      <td>0</td>\n",
       "    </tr>\n",
       "    <tr>\n",
       "      <th>28</th>\n",
       "      <td>1</td>\n",
       "      <td>0</td>\n",
       "      <td>0</td>\n",
       "    </tr>\n",
       "    <tr>\n",
       "      <th>29</th>\n",
       "      <td>0</td>\n",
       "      <td>0</td>\n",
       "      <td>1</td>\n",
       "    </tr>\n",
       "    <tr>\n",
       "      <th>...</th>\n",
       "      <td>...</td>\n",
       "      <td>...</td>\n",
       "      <td>...</td>\n",
       "    </tr>\n",
       "    <tr>\n",
       "      <th>21583</th>\n",
       "      <td>0</td>\n",
       "      <td>0</td>\n",
       "      <td>0</td>\n",
       "    </tr>\n",
       "    <tr>\n",
       "      <th>21584</th>\n",
       "      <td>0</td>\n",
       "      <td>0</td>\n",
       "      <td>0</td>\n",
       "    </tr>\n",
       "    <tr>\n",
       "      <th>21585</th>\n",
       "      <td>1</td>\n",
       "      <td>0</td>\n",
       "      <td>0</td>\n",
       "    </tr>\n",
       "    <tr>\n",
       "      <th>21586</th>\n",
       "      <td>1</td>\n",
       "      <td>0</td>\n",
       "      <td>0</td>\n",
       "    </tr>\n",
       "    <tr>\n",
       "      <th>21587</th>\n",
       "      <td>1</td>\n",
       "      <td>0</td>\n",
       "      <td>0</td>\n",
       "    </tr>\n",
       "    <tr>\n",
       "      <th>21588</th>\n",
       "      <td>0</td>\n",
       "      <td>0</td>\n",
       "      <td>0</td>\n",
       "    </tr>\n",
       "    <tr>\n",
       "      <th>21589</th>\n",
       "      <td>0</td>\n",
       "      <td>1</td>\n",
       "      <td>0</td>\n",
       "    </tr>\n",
       "    <tr>\n",
       "      <th>21590</th>\n",
       "      <td>0</td>\n",
       "      <td>0</td>\n",
       "      <td>1</td>\n",
       "    </tr>\n",
       "    <tr>\n",
       "      <th>21591</th>\n",
       "      <td>0</td>\n",
       "      <td>0</td>\n",
       "      <td>1</td>\n",
       "    </tr>\n",
       "    <tr>\n",
       "      <th>21592</th>\n",
       "      <td>0</td>\n",
       "      <td>0</td>\n",
       "      <td>0</td>\n",
       "    </tr>\n",
       "    <tr>\n",
       "      <th>21593</th>\n",
       "      <td>0</td>\n",
       "      <td>0</td>\n",
       "      <td>1</td>\n",
       "    </tr>\n",
       "    <tr>\n",
       "      <th>21594</th>\n",
       "      <td>0</td>\n",
       "      <td>1</td>\n",
       "      <td>0</td>\n",
       "    </tr>\n",
       "    <tr>\n",
       "      <th>21595</th>\n",
       "      <td>1</td>\n",
       "      <td>0</td>\n",
       "      <td>0</td>\n",
       "    </tr>\n",
       "    <tr>\n",
       "      <th>21596</th>\n",
       "      <td>0</td>\n",
       "      <td>0</td>\n",
       "      <td>1</td>\n",
       "    </tr>\n",
       "    <tr>\n",
       "      <th>21597</th>\n",
       "      <td>0</td>\n",
       "      <td>0</td>\n",
       "      <td>1</td>\n",
       "    </tr>\n",
       "    <tr>\n",
       "      <th>21598</th>\n",
       "      <td>0</td>\n",
       "      <td>0</td>\n",
       "      <td>1</td>\n",
       "    </tr>\n",
       "    <tr>\n",
       "      <th>21599</th>\n",
       "      <td>0</td>\n",
       "      <td>0</td>\n",
       "      <td>1</td>\n",
       "    </tr>\n",
       "    <tr>\n",
       "      <th>21600</th>\n",
       "      <td>0</td>\n",
       "      <td>0</td>\n",
       "      <td>1</td>\n",
       "    </tr>\n",
       "    <tr>\n",
       "      <th>21601</th>\n",
       "      <td>0</td>\n",
       "      <td>0</td>\n",
       "      <td>0</td>\n",
       "    </tr>\n",
       "    <tr>\n",
       "      <th>21602</th>\n",
       "      <td>1</td>\n",
       "      <td>0</td>\n",
       "      <td>0</td>\n",
       "    </tr>\n",
       "    <tr>\n",
       "      <th>21603</th>\n",
       "      <td>0</td>\n",
       "      <td>1</td>\n",
       "      <td>0</td>\n",
       "    </tr>\n",
       "    <tr>\n",
       "      <th>21604</th>\n",
       "      <td>1</td>\n",
       "      <td>0</td>\n",
       "      <td>0</td>\n",
       "    </tr>\n",
       "    <tr>\n",
       "      <th>21605</th>\n",
       "      <td>0</td>\n",
       "      <td>1</td>\n",
       "      <td>0</td>\n",
       "    </tr>\n",
       "    <tr>\n",
       "      <th>21606</th>\n",
       "      <td>0</td>\n",
       "      <td>0</td>\n",
       "      <td>1</td>\n",
       "    </tr>\n",
       "    <tr>\n",
       "      <th>21607</th>\n",
       "      <td>0</td>\n",
       "      <td>0</td>\n",
       "      <td>0</td>\n",
       "    </tr>\n",
       "    <tr>\n",
       "      <th>21608</th>\n",
       "      <td>1</td>\n",
       "      <td>0</td>\n",
       "      <td>0</td>\n",
       "    </tr>\n",
       "    <tr>\n",
       "      <th>21609</th>\n",
       "      <td>0</td>\n",
       "      <td>1</td>\n",
       "      <td>0</td>\n",
       "    </tr>\n",
       "    <tr>\n",
       "      <th>21610</th>\n",
       "      <td>0</td>\n",
       "      <td>0</td>\n",
       "      <td>0</td>\n",
       "    </tr>\n",
       "    <tr>\n",
       "      <th>21611</th>\n",
       "      <td>1</td>\n",
       "      <td>0</td>\n",
       "      <td>0</td>\n",
       "    </tr>\n",
       "    <tr>\n",
       "      <th>21612</th>\n",
       "      <td>0</td>\n",
       "      <td>0</td>\n",
       "      <td>0</td>\n",
       "    </tr>\n",
       "  </tbody>\n",
       "</table>\n",
       "<p>21613 rows × 3 columns</p>\n",
       "</div>"
      ],
      "text/plain": [
       "       sqft_living_(1427.0, 1910.0]  sqft_living_(1910.0, 2550.0]  \\\n",
       "0                                 0                             0   \n",
       "1                                 0                             0   \n",
       "2                                 0                             0   \n",
       "3                                 0                             1   \n",
       "4                                 1                             0   \n",
       "5                                 0                             0   \n",
       "6                                 1                             0   \n",
       "7                                 0                             0   \n",
       "8                                 1                             0   \n",
       "9                                 1                             0   \n",
       "10                                0                             0   \n",
       "11                                0                             0   \n",
       "12                                1                             0   \n",
       "13                                0                             0   \n",
       "14                                1                             0   \n",
       "15                                0                             0   \n",
       "16                                1                             0   \n",
       "17                                1                             0   \n",
       "18                                0                             0   \n",
       "19                                0                             0   \n",
       "20                                1                             0   \n",
       "21                                0                             0   \n",
       "22                                0                             1   \n",
       "23                                0                             0   \n",
       "24                                0                             1   \n",
       "25                                1                             0   \n",
       "26                                0                             1   \n",
       "27                                0                             0   \n",
       "28                                1                             0   \n",
       "29                                0                             0   \n",
       "...                             ...                           ...   \n",
       "21583                             0                             0   \n",
       "21584                             0                             0   \n",
       "21585                             1                             0   \n",
       "21586                             1                             0   \n",
       "21587                             1                             0   \n",
       "21588                             0                             0   \n",
       "21589                             0                             1   \n",
       "21590                             0                             0   \n",
       "21591                             0                             0   \n",
       "21592                             0                             0   \n",
       "21593                             0                             0   \n",
       "21594                             0                             1   \n",
       "21595                             1                             0   \n",
       "21596                             0                             0   \n",
       "21597                             0                             0   \n",
       "21598                             0                             0   \n",
       "21599                             0                             0   \n",
       "21600                             0                             0   \n",
       "21601                             0                             0   \n",
       "21602                             1                             0   \n",
       "21603                             0                             1   \n",
       "21604                             1                             0   \n",
       "21605                             0                             1   \n",
       "21606                             0                             0   \n",
       "21607                             0                             0   \n",
       "21608                             1                             0   \n",
       "21609                             0                             1   \n",
       "21610                             0                             0   \n",
       "21611                             1                             0   \n",
       "21612                             0                             0   \n",
       "\n",
       "       sqft_living_(2550.0, 13540.0]  \n",
       "0                                  0  \n",
       "1                                  1  \n",
       "2                                  0  \n",
       "3                                  0  \n",
       "4                                  0  \n",
       "5                                  1  \n",
       "6                                  0  \n",
       "7                                  0  \n",
       "8                                  0  \n",
       "9                                  0  \n",
       "10                                 1  \n",
       "11                                 0  \n",
       "12                                 0  \n",
       "13                                 0  \n",
       "14                                 0  \n",
       "15                                 1  \n",
       "16                                 0  \n",
       "17                                 0  \n",
       "18                                 0  \n",
       "19                                 0  \n",
       "20                                 0  \n",
       "21                                 1  \n",
       "22                                 0  \n",
       "23                                 0  \n",
       "24                                 0  \n",
       "25                                 0  \n",
       "26                                 0  \n",
       "27                                 0  \n",
       "28                                 0  \n",
       "29                                 1  \n",
       "...                              ...  \n",
       "21583                              0  \n",
       "21584                              0  \n",
       "21585                              0  \n",
       "21586                              0  \n",
       "21587                              0  \n",
       "21588                              0  \n",
       "21589                              0  \n",
       "21590                              1  \n",
       "21591                              1  \n",
       "21592                              0  \n",
       "21593                              1  \n",
       "21594                              0  \n",
       "21595                              0  \n",
       "21596                              1  \n",
       "21597                              1  \n",
       "21598                              1  \n",
       "21599                              1  \n",
       "21600                              1  \n",
       "21601                              0  \n",
       "21602                              0  \n",
       "21603                              0  \n",
       "21604                              0  \n",
       "21605                              0  \n",
       "21606                              1  \n",
       "21607                              0  \n",
       "21608                              0  \n",
       "21609                              0  \n",
       "21610                              0  \n",
       "21611                              0  \n",
       "21612                              0  \n",
       "\n",
       "[21613 rows x 3 columns]"
      ]
     },
     "execution_count": 85,
     "metadata": {},
     "output_type": "execute_result"
    }
   ],
   "source": [
    "pd.get_dummies(dd,prefix='sqft_living',drop_first=True)"
   ]
  },
  {
   "cell_type": "code",
   "execution_count": null,
   "metadata": {
    "collapsed": true
   },
   "outputs": [],
   "source": []
  }
 ],
 "metadata": {
  "anaconda-cloud": {},
  "kernelspec": {
   "display_name": "Python [default]",
   "language": "python",
   "name": "python3"
  },
  "language_info": {
   "codemirror_mode": {
    "name": "ipython",
    "version": 3
   },
   "file_extension": ".py",
   "mimetype": "text/x-python",
   "name": "python",
   "nbconvert_exporter": "python",
   "pygments_lexer": "ipython3",
   "version": "3.5.5"
  }
 },
 "nbformat": 4,
 "nbformat_minor": 2
}
